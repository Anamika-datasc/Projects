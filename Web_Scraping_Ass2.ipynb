{
 "cells": [
  {
   "cell_type": "code",
   "execution_count": 2,
   "metadata": {},
   "outputs": [],
   "source": [
    "#importing required libraries\n",
    "import selenium\n",
    "import pandas as pd\n",
    "from selenium import webdriver"
   ]
  },
  {
   "cell_type": "code",
   "execution_count": 3,
   "metadata": {},
   "outputs": [],
   "source": [
    "#Connecting to the webdriver\n",
    "driver= webdriver.Chrome(\"E:\\chromedriver_win32\\chromedriver.exe\")"
   ]
  },
  {
   "cell_type": "markdown",
   "metadata": {},
   "source": [
    "Q1. Write a python program to scrape data for “Data Analyst” Job position in\n",
    "“Bangalore” location. You have to scrape the job-title, job-location, company_name,\n",
    "experience_required. You have to scrape first 10 jobs data."
   ]
  },
  {
   "cell_type": "code",
   "execution_count": 3,
   "metadata": {},
   "outputs": [],
   "source": [
    "driver.get(\"https://www.naukri.com/\")"
   ]
  },
  {
   "cell_type": "code",
   "execution_count": 4,
   "metadata": {},
   "outputs": [],
   "source": [
    "search_job= driver.find_element_by_id('qsb-keyword-sugg')\n",
    "search_job.send_keys(\"Data Analyst\")"
   ]
  },
  {
   "cell_type": "code",
   "execution_count": 5,
   "metadata": {},
   "outputs": [],
   "source": [
    "search_loc= driver.find_element_by_xpath(\"//input[@id='qsb-location-sugg']\")\n",
    "search_loc.send_keys(\"Bangalore\")"
   ]
  },
  {
   "cell_type": "code",
   "execution_count": 6,
   "metadata": {},
   "outputs": [],
   "source": [
    "search_btn=driver.find_element_by_xpath(\"//div[@class='search-btn']/button\")\n",
    "search_btn.click()"
   ]
  },
  {
   "cell_type": "code",
   "execution_count": 26,
   "metadata": {},
   "outputs": [],
   "source": [
    "#creating empty lists to store the data while scraping\n",
    "job_titles=[]\n",
    "company_names=[]\n",
    "locations_list=[]\n",
    "experiences=[]"
   ]
  },
  {
   "cell_type": "code",
   "execution_count": 42,
   "metadata": {},
   "outputs": [
    {
     "data": {
      "text/plain": [
       "[<selenium.webdriver.remote.webelement.WebElement (session=\"4b08490c220fa15480abed4f2a88259c\", element=\"39125231-2ee7-45b2-82cf-4c8a8c0decca\")>,\n",
       " <selenium.webdriver.remote.webelement.WebElement (session=\"4b08490c220fa15480abed4f2a88259c\", element=\"9218e8be-742f-43b5-9499-aaf85b51b638\")>,\n",
       " <selenium.webdriver.remote.webelement.WebElement (session=\"4b08490c220fa15480abed4f2a88259c\", element=\"d36aca75-0680-46ac-8764-37ac87394c52\")>,\n",
       " <selenium.webdriver.remote.webelement.WebElement (session=\"4b08490c220fa15480abed4f2a88259c\", element=\"3c7023b8-1e1f-4488-868d-ad96761cef06\")>,\n",
       " <selenium.webdriver.remote.webelement.WebElement (session=\"4b08490c220fa15480abed4f2a88259c\", element=\"5b37e91e-4619-4978-85bf-55fe054a2318\")>,\n",
       " <selenium.webdriver.remote.webelement.WebElement (session=\"4b08490c220fa15480abed4f2a88259c\", element=\"006b5fd7-9781-4ae4-afa5-835c418c7c6c\")>,\n",
       " <selenium.webdriver.remote.webelement.WebElement (session=\"4b08490c220fa15480abed4f2a88259c\", element=\"da046f7e-da6e-4493-a7af-57abc7fc92be\")>,\n",
       " <selenium.webdriver.remote.webelement.WebElement (session=\"4b08490c220fa15480abed4f2a88259c\", element=\"edcb95dc-a63a-4a95-a42d-4337efdd7ac2\")>,\n",
       " <selenium.webdriver.remote.webelement.WebElement (session=\"4b08490c220fa15480abed4f2a88259c\", element=\"184e3fea-7a40-4539-8fd4-ac5f90ee49f0\")>,\n",
       " <selenium.webdriver.remote.webelement.WebElement (session=\"4b08490c220fa15480abed4f2a88259c\", element=\"c9b200f2-5267-4af2-90a2-307bc06911e4\")>]"
      ]
     },
     "execution_count": 42,
     "metadata": {},
     "output_type": "execute_result"
    }
   ],
   "source": [
    "#extracting all the tags having job titles\n",
    "titles_tags=driver.find_elements_by_xpath(\"//a[@class='title fw500 ellipsis']\")\n",
    "titles_tags[0:10]"
   ]
  },
  {
   "cell_type": "code",
   "execution_count": 43,
   "metadata": {},
   "outputs": [
    {
     "data": {
      "text/plain": [
       "['Data Engineer/Data Analyst- Chennai',\n",
       " 'Azure Data Analyst',\n",
       " 'Data Analyst',\n",
       " 'Executive - Data Analyst',\n",
       " 'Data Analyst',\n",
       " 'Data Analyst - Alteryx, Tableau and SQL',\n",
       " 'Data Analyst',\n",
       " 'Data Analyst',\n",
       " 'Data Analyst',\n",
       " 'Data Analyst']"
      ]
     },
     "execution_count": 43,
     "metadata": {},
     "output_type": "execute_result"
    }
   ],
   "source": [
    "#Extracting text from the above tags using for loop\n",
    "\n",
    "for i in titles_tags:\n",
    "    title=i.text\n",
    "    job_titles.append(title)\n",
    "\n",
    "job_titles[0:10]"
   ]
  },
  {
   "cell_type": "code",
   "execution_count": 44,
   "metadata": {},
   "outputs": [
    {
     "data": {
      "text/plain": [
       "[<selenium.webdriver.remote.webelement.WebElement (session=\"4b08490c220fa15480abed4f2a88259c\", element=\"0165ce6d-1aa1-4cb8-8b06-169d59eff239\")>,\n",
       " <selenium.webdriver.remote.webelement.WebElement (session=\"4b08490c220fa15480abed4f2a88259c\", element=\"a9163fa2-4494-44bb-bf57-144efa2f5658\")>,\n",
       " <selenium.webdriver.remote.webelement.WebElement (session=\"4b08490c220fa15480abed4f2a88259c\", element=\"78c3c7ad-1121-48e5-b9ad-15b91b44e4fa\")>,\n",
       " <selenium.webdriver.remote.webelement.WebElement (session=\"4b08490c220fa15480abed4f2a88259c\", element=\"6090316d-274c-4596-a22c-c52f8ec3676e\")>,\n",
       " <selenium.webdriver.remote.webelement.WebElement (session=\"4b08490c220fa15480abed4f2a88259c\", element=\"1a4ddf4b-a1a8-440d-b223-246de863ff87\")>,\n",
       " <selenium.webdriver.remote.webelement.WebElement (session=\"4b08490c220fa15480abed4f2a88259c\", element=\"d41ad2d5-f66c-4fce-b002-e1be6806be85\")>,\n",
       " <selenium.webdriver.remote.webelement.WebElement (session=\"4b08490c220fa15480abed4f2a88259c\", element=\"89d6715b-990c-4408-94de-cb0d80522d82\")>,\n",
       " <selenium.webdriver.remote.webelement.WebElement (session=\"4b08490c220fa15480abed4f2a88259c\", element=\"59e3fb8a-012c-4c7d-ac2e-7ec2bf1bb2e8\")>,\n",
       " <selenium.webdriver.remote.webelement.WebElement (session=\"4b08490c220fa15480abed4f2a88259c\", element=\"e37142ee-3b50-4321-a016-7dc468c2dc59\")>,\n",
       " <selenium.webdriver.remote.webelement.WebElement (session=\"4b08490c220fa15480abed4f2a88259c\", element=\"e8a45527-6acf-4fac-8737-4ad7bc94b983\")>]"
      ]
     },
     "execution_count": 44,
     "metadata": {},
     "output_type": "execute_result"
    }
   ],
   "source": [
    "#extracting all the tags having company names\n",
    "companies_tags=driver.find_elements_by_xpath(\"//a[@class='subTitle ellipsis fleft']\")\n",
    "companies_tags[0:10]"
   ]
  },
  {
   "cell_type": "code",
   "execution_count": 45,
   "metadata": {},
   "outputs": [
    {
     "data": {
      "text/plain": [
       "['Inflexion Analytix Private Limited',\n",
       " 'Capgemini Technology Services India Limited',\n",
       " 'Super India Tech Mark',\n",
       " 'Flipkart Internet Private Limited',\n",
       " 'CONDUENT BUSINESS SERVICES INDIA LLP',\n",
       " 'Schneider Electric',\n",
       " 'Myntra Designs Pvt. Ltd.',\n",
       " 'Myntra Designs Pvt. Ltd.',\n",
       " 'Myntra Designs Pvt. Ltd.',\n",
       " 'Myntra Designs Pvt. Ltd.']"
      ]
     },
     "execution_count": 45,
     "metadata": {},
     "output_type": "execute_result"
    }
   ],
   "source": [
    "for i in companies_tags:\n",
    "    company_name=i.text\n",
    "    company_names.append(company_name)\n",
    "\n",
    "company_names[0:10]"
   ]
  },
  {
   "cell_type": "code",
   "execution_count": 37,
   "metadata": {
    "scrolled": false
   },
   "outputs": [
    {
     "data": {
      "text/plain": [
       "[<selenium.webdriver.remote.webelement.WebElement (session=\"4b08490c220fa15480abed4f2a88259c\", element=\"1b8c30ec-0001-41a7-af41-58aca2aced7f\")>,\n",
       " <selenium.webdriver.remote.webelement.WebElement (session=\"4b08490c220fa15480abed4f2a88259c\", element=\"5a1b40b5-fdf5-49c2-9b99-35d8251a6212\")>]"
      ]
     },
     "execution_count": 37,
     "metadata": {},
     "output_type": "execute_result"
    }
   ],
   "source": [
    "#extracting all the tags having locations\n",
    "locations_tags=driver.find_elements_by_xpath(\"//li[@class='fleft grey-text br2 placeHolderLi location']/span[1]\")\n",
    "locations_tags[0:2]"
   ]
  },
  {
   "cell_type": "code",
   "execution_count": 38,
   "metadata": {},
   "outputs": [
    {
     "data": {
      "text/plain": [
       "['Hyderabad/Secunderabad, Pune, Chennai, Bangalore/Bengaluru',\n",
       " 'Bangalore/Bengaluru',\n",
       " 'Bangalore/Bengaluru(Devalapur)',\n",
       " 'Bangalore/Bengaluru']"
      ]
     },
     "execution_count": 38,
     "metadata": {},
     "output_type": "execute_result"
    }
   ],
   "source": [
    "for i in locations_tags:\n",
    "    location=i.text\n",
    "    locations_list.append(location)\n",
    "\n",
    "locations_list[0:4]"
   ]
  },
  {
   "cell_type": "code",
   "execution_count": 39,
   "metadata": {},
   "outputs": [
    {
     "data": {
      "text/plain": [
       "[<selenium.webdriver.remote.webelement.WebElement (session=\"4b08490c220fa15480abed4f2a88259c\", element=\"a7b3143a-bc0f-442b-bbd3-f5310d5f5153\")>,\n",
       " <selenium.webdriver.remote.webelement.WebElement (session=\"4b08490c220fa15480abed4f2a88259c\", element=\"c9d4042b-0869-44c5-ac4b-0e50c5a2635a\")>]"
      ]
     },
     "execution_count": 39,
     "metadata": {},
     "output_type": "execute_result"
    }
   ],
   "source": [
    "#extracting all the tags having locations\n",
    "experience_tags=driver.find_elements_by_xpath(\"//li[@class='fleft grey-text br2 placeHolderLi experience']/span[1]\")\n",
    "experience_tags[0:2]"
   ]
  },
  {
   "cell_type": "code",
   "execution_count": 40,
   "metadata": {},
   "outputs": [
    {
     "data": {
      "text/plain": [
       "['0-2 Yrs', '6-8 Yrs', '0-2 Yrs', '1-3 Yrs']"
      ]
     },
     "execution_count": 40,
     "metadata": {},
     "output_type": "execute_result"
    }
   ],
   "source": [
    "for i in experience_tags:\n",
    "    experience=i.text\n",
    "    experiences.append(experience)\n",
    "\n",
    "experiences[0:4]"
   ]
  },
  {
   "cell_type": "raw",
   "metadata": {},
   "source": [
    "job_titles=[]\n",
    "company_names=[]\n",
    "locations_list=[]\n",
    "experiences=[]"
   ]
  },
  {
   "cell_type": "code",
   "execution_count": 46,
   "metadata": {},
   "outputs": [
    {
     "name": "stdout",
     "output_type": "stream",
     "text": [
      "40 40 40 40\n"
     ]
    }
   ],
   "source": [
    "print(len(job_titles), len(company_names), len(locations_list), len(experiences))"
   ]
  },
  {
   "cell_type": "code",
   "execution_count": 52,
   "metadata": {},
   "outputs": [],
   "source": [
    "jobs=pd.DataFrame({})\n",
    "jobs['Title']=job_titles[:10]\n",
    "jobs['Company']=company_names[:10]\n",
    "jobs['Location']=locations_list[:10]\n",
    "jobs['Experience']=experiences[:10]"
   ]
  },
  {
   "cell_type": "code",
   "execution_count": 53,
   "metadata": {},
   "outputs": [
    {
     "data": {
      "text/html": [
       "<div>\n",
       "<style scoped>\n",
       "    .dataframe tbody tr th:only-of-type {\n",
       "        vertical-align: middle;\n",
       "    }\n",
       "\n",
       "    .dataframe tbody tr th {\n",
       "        vertical-align: top;\n",
       "    }\n",
       "\n",
       "    .dataframe thead th {\n",
       "        text-align: right;\n",
       "    }\n",
       "</style>\n",
       "<table border=\"1\" class=\"dataframe\">\n",
       "  <thead>\n",
       "    <tr style=\"text-align: right;\">\n",
       "      <th></th>\n",
       "      <th>Title</th>\n",
       "      <th>Company</th>\n",
       "      <th>Location</th>\n",
       "      <th>Experience</th>\n",
       "    </tr>\n",
       "  </thead>\n",
       "  <tbody>\n",
       "    <tr>\n",
       "      <th>0</th>\n",
       "      <td>Data Engineer/Data Analyst- Chennai</td>\n",
       "      <td>Inflexion Analytix Private Limited</td>\n",
       "      <td>Hyderabad/Secunderabad, Pune, Chennai, Bangalo...</td>\n",
       "      <td>0-2 Yrs</td>\n",
       "    </tr>\n",
       "    <tr>\n",
       "      <th>1</th>\n",
       "      <td>Azure Data Analyst</td>\n",
       "      <td>Capgemini Technology Services India Limited</td>\n",
       "      <td>Bangalore/Bengaluru</td>\n",
       "      <td>6-8 Yrs</td>\n",
       "    </tr>\n",
       "    <tr>\n",
       "      <th>2</th>\n",
       "      <td>Data Analyst</td>\n",
       "      <td>Super India Tech Mark</td>\n",
       "      <td>Bangalore/Bengaluru(Devalapur)</td>\n",
       "      <td>0-2 Yrs</td>\n",
       "    </tr>\n",
       "    <tr>\n",
       "      <th>3</th>\n",
       "      <td>Executive - Data Analyst</td>\n",
       "      <td>Flipkart Internet Private Limited</td>\n",
       "      <td>Bangalore/Bengaluru</td>\n",
       "      <td>1-3 Yrs</td>\n",
       "    </tr>\n",
       "    <tr>\n",
       "      <th>4</th>\n",
       "      <td>Data Analyst</td>\n",
       "      <td>CONDUENT BUSINESS SERVICES INDIA LLP</td>\n",
       "      <td>Bangalore/Bengaluru</td>\n",
       "      <td>1-2 Yrs</td>\n",
       "    </tr>\n",
       "    <tr>\n",
       "      <th>5</th>\n",
       "      <td>Data Analyst - Alteryx, Tableau and SQL</td>\n",
       "      <td>Schneider Electric</td>\n",
       "      <td>Bangalore/Bengaluru</td>\n",
       "      <td>2-5 Yrs</td>\n",
       "    </tr>\n",
       "    <tr>\n",
       "      <th>6</th>\n",
       "      <td>Data Analyst</td>\n",
       "      <td>Myntra Designs Pvt. Ltd.</td>\n",
       "      <td>Bangalore/Bengaluru</td>\n",
       "      <td>3-6 Yrs</td>\n",
       "    </tr>\n",
       "    <tr>\n",
       "      <th>7</th>\n",
       "      <td>Data Analyst</td>\n",
       "      <td>Myntra Designs Pvt. Ltd.</td>\n",
       "      <td>Bangalore/Bengaluru</td>\n",
       "      <td>4-8 Yrs</td>\n",
       "    </tr>\n",
       "    <tr>\n",
       "      <th>8</th>\n",
       "      <td>Data Analyst</td>\n",
       "      <td>Myntra Designs Pvt. Ltd.</td>\n",
       "      <td>Bangalore/Bengaluru</td>\n",
       "      <td>3-8 Yrs</td>\n",
       "    </tr>\n",
       "    <tr>\n",
       "      <th>9</th>\n",
       "      <td>Data Analyst</td>\n",
       "      <td>Myntra Designs Pvt. Ltd.</td>\n",
       "      <td>Bangalore/Bengaluru</td>\n",
       "      <td>4-8 Yrs</td>\n",
       "    </tr>\n",
       "  </tbody>\n",
       "</table>\n",
       "</div>"
      ],
      "text/plain": [
       "                                     Title  \\\n",
       "0      Data Engineer/Data Analyst- Chennai   \n",
       "1                       Azure Data Analyst   \n",
       "2                             Data Analyst   \n",
       "3                 Executive - Data Analyst   \n",
       "4                             Data Analyst   \n",
       "5  Data Analyst - Alteryx, Tableau and SQL   \n",
       "6                             Data Analyst   \n",
       "7                             Data Analyst   \n",
       "8                             Data Analyst   \n",
       "9                             Data Analyst   \n",
       "\n",
       "                                       Company  \\\n",
       "0           Inflexion Analytix Private Limited   \n",
       "1  Capgemini Technology Services India Limited   \n",
       "2                        Super India Tech Mark   \n",
       "3            Flipkart Internet Private Limited   \n",
       "4         CONDUENT BUSINESS SERVICES INDIA LLP   \n",
       "5                           Schneider Electric   \n",
       "6                     Myntra Designs Pvt. Ltd.   \n",
       "7                     Myntra Designs Pvt. Ltd.   \n",
       "8                     Myntra Designs Pvt. Ltd.   \n",
       "9                     Myntra Designs Pvt. Ltd.   \n",
       "\n",
       "                                            Location Experience  \n",
       "0  Hyderabad/Secunderabad, Pune, Chennai, Bangalo...    0-2 Yrs  \n",
       "1                                Bangalore/Bengaluru    6-8 Yrs  \n",
       "2                     Bangalore/Bengaluru(Devalapur)    0-2 Yrs  \n",
       "3                                Bangalore/Bengaluru    1-3 Yrs  \n",
       "4                                Bangalore/Bengaluru    1-2 Yrs  \n",
       "5                                Bangalore/Bengaluru    2-5 Yrs  \n",
       "6                                Bangalore/Bengaluru    3-6 Yrs  \n",
       "7                                Bangalore/Bengaluru    4-8 Yrs  \n",
       "8                                Bangalore/Bengaluru    3-8 Yrs  \n",
       "9                                Bangalore/Bengaluru    4-8 Yrs  "
      ]
     },
     "execution_count": 53,
     "metadata": {},
     "output_type": "execute_result"
    }
   ],
   "source": [
    "jobs"
   ]
  },
  {
   "cell_type": "code",
   "execution_count": null,
   "metadata": {},
   "outputs": [],
   "source": []
  }
 ],
 "metadata": {
  "kernelspec": {
   "display_name": "Python 3",
   "language": "python",
   "name": "python3"
  },
  "language_info": {
   "codemirror_mode": {
    "name": "ipython",
    "version": 3
   },
   "file_extension": ".py",
   "mimetype": "text/x-python",
   "name": "python",
   "nbconvert_exporter": "python",
   "pygments_lexer": "ipython3",
   "version": "3.8.3"
  }
 },
 "nbformat": 4,
 "nbformat_minor": 4
}
